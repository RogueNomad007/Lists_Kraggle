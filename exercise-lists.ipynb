{
 "cells": [
  {
   "cell_type": "markdown",
   "id": "eee99dfa",
   "metadata": {
    "papermill": {
     "duration": 0.007035,
     "end_time": "2023-11-07T22:19:26.414244",
     "exception": false,
     "start_time": "2023-11-07T22:19:26.407209",
     "status": "completed"
    },
    "tags": []
   },
   "source": [
    "**This notebook is an exercise in the [Python](https://www.kaggle.com/learn/python) course.  You can reference the tutorial at [this link](https://www.kaggle.com/colinmorris/lists).**\n",
    "\n",
    "---\n"
   ]
  },
  {
   "cell_type": "markdown",
   "id": "19fb7cd7",
   "metadata": {
    "papermill": {
     "duration": 0.006175,
     "end_time": "2023-11-07T22:19:26.429078",
     "exception": false,
     "start_time": "2023-11-07T22:19:26.422903",
     "status": "completed"
    },
    "tags": []
   },
   "source": []
  },
  {
   "cell_type": "markdown",
   "id": "3af23b7d",
   "metadata": {
    "papermill": {
     "duration": 0.006153,
     "end_time": "2023-11-07T22:19:26.441681",
     "exception": false,
     "start_time": "2023-11-07T22:19:26.435528",
     "status": "completed"
    },
    "tags": []
   },
   "source": [
    "Things get more interesting with lists. You'll apply your new knowledge to solve the questions below. Remember to run the following cell first."
   ]
  },
  {
   "cell_type": "code",
   "execution_count": 1,
   "id": "3fd17ca7",
   "metadata": {
    "execution": {
     "iopub.execute_input": "2023-11-07T22:19:26.456576Z",
     "iopub.status.busy": "2023-11-07T22:19:26.456056Z",
     "iopub.status.idle": "2023-11-07T22:19:26.918538Z",
     "shell.execute_reply": "2023-11-07T22:19:26.917067Z"
    },
    "papermill": {
     "duration": 0.473224,
     "end_time": "2023-11-07T22:19:26.921282",
     "exception": false,
     "start_time": "2023-11-07T22:19:26.448058",
     "status": "completed"
    },
    "tags": []
   },
   "outputs": [
    {
     "name": "stdout",
     "output_type": "stream",
     "text": [
      "Setup complete.\n"
     ]
    }
   ],
   "source": [
    "from learntools.core import binder; binder.bind(globals())\n",
    "from learntools.python.ex4 import *\n",
    "print('Setup complete.')"
   ]
  },
  {
   "cell_type": "markdown",
   "id": "5b6ffbd9",
   "metadata": {
    "papermill": {
     "duration": 0.006282,
     "end_time": "2023-11-07T22:19:26.934330",
     "exception": false,
     "start_time": "2023-11-07T22:19:26.928048",
     "status": "completed"
    },
    "tags": []
   },
   "source": [
    "# 1.\n",
    "\n",
    "Complete the function below according to its docstring."
   ]
  },
  {
   "cell_type": "code",
   "execution_count": 2,
   "id": "f74fd8ee",
   "metadata": {
    "execution": {
     "iopub.execute_input": "2023-11-07T22:19:26.949776Z",
     "iopub.status.busy": "2023-11-07T22:19:26.949100Z",
     "iopub.status.idle": "2023-11-07T22:19:26.963372Z",
     "shell.execute_reply": "2023-11-07T22:19:26.961979Z"
    },
    "papermill": {
     "duration": 0.025124,
     "end_time": "2023-11-07T22:19:26.966031",
     "exception": false,
     "start_time": "2023-11-07T22:19:26.940907",
     "status": "completed"
    },
    "tags": []
   },
   "outputs": [
    {
     "data": {
      "application/javascript": [
       "parent.postMessage({\"jupyterEvent\": \"custom.exercise_interaction\", \"data\": {\"outcomeType\": 1, \"valueTowardsCompletion\": 0.2, \"interactionType\": 1, \"questionType\": 2, \"questionId\": \"1_SelectSecondItem\", \"learnToolsVersion\": \"0.3.4\", \"failureMessage\": \"\", \"exceptionClass\": \"\", \"trace\": \"\"}}, \"*\")"
      ],
      "text/plain": [
       "<IPython.core.display.Javascript object>"
      ]
     },
     "metadata": {},
     "output_type": "display_data"
    },
    {
     "data": {
      "text/markdown": [
       "<span style=\"color:#33cc33\">Correct</span>"
      ],
      "text/plain": [
       "Correct"
      ]
     },
     "metadata": {},
     "output_type": "display_data"
    }
   ],
   "source": [
    "def select_second(L):\n",
    "    if len(L) < 2:\n",
    "        return None\n",
    "    return L[1]\n",
    "\n",
    "# Check your answer\n",
    "q1.check()"
   ]
  },
  {
   "cell_type": "code",
   "execution_count": 3,
   "id": "d8c9d130",
   "metadata": {
    "execution": {
     "iopub.execute_input": "2023-11-07T22:19:26.981771Z",
     "iopub.status.busy": "2023-11-07T22:19:26.981369Z",
     "iopub.status.idle": "2023-11-07T22:19:26.987113Z",
     "shell.execute_reply": "2023-11-07T22:19:26.985578Z"
    },
    "papermill": {
     "duration": 0.016719,
     "end_time": "2023-11-07T22:19:26.989818",
     "exception": false,
     "start_time": "2023-11-07T22:19:26.973099",
     "status": "completed"
    },
    "tags": []
   },
   "outputs": [],
   "source": [
    "#q1.hint()\n",
    "#q1.solution()"
   ]
  },
  {
   "cell_type": "markdown",
   "id": "f43e1bf5",
   "metadata": {
    "papermill": {
     "duration": 0.008362,
     "end_time": "2023-11-07T22:19:27.005208",
     "exception": false,
     "start_time": "2023-11-07T22:19:26.996846",
     "status": "completed"
    },
    "tags": []
   },
   "source": [
    "# 2.\n",
    "\n",
    "You are analyzing sports teams.  Members of each team are stored in a list. The Coach is the first name in the list, the captain is the second name in the list, and other players are listed after that. \n",
    "These lists are stored in another list, which starts with the best team and proceeds through the list to the worst team last.  Complete the function below to select the **captain** of the worst team."
   ]
  },
  {
   "cell_type": "code",
   "execution_count": 4,
   "id": "553d245a",
   "metadata": {
    "execution": {
     "iopub.execute_input": "2023-11-07T22:19:27.022063Z",
     "iopub.status.busy": "2023-11-07T22:19:27.021687Z",
     "iopub.status.idle": "2023-11-07T22:19:27.032125Z",
     "shell.execute_reply": "2023-11-07T22:19:27.030661Z"
    },
    "papermill": {
     "duration": 0.021714,
     "end_time": "2023-11-07T22:19:27.034834",
     "exception": false,
     "start_time": "2023-11-07T22:19:27.013120",
     "status": "completed"
    },
    "tags": []
   },
   "outputs": [
    {
     "data": {
      "application/javascript": [
       "parent.postMessage({\"jupyterEvent\": \"custom.exercise_interaction\", \"data\": {\"outcomeType\": 1, \"valueTowardsCompletion\": 0.2, \"interactionType\": 1, \"questionType\": 2, \"questionId\": \"2_LosingTeamCaptain\", \"learnToolsVersion\": \"0.3.4\", \"failureMessage\": \"\", \"exceptionClass\": \"\", \"trace\": \"\"}}, \"*\")"
      ],
      "text/plain": [
       "<IPython.core.display.Javascript object>"
      ]
     },
     "metadata": {},
     "output_type": "display_data"
    },
    {
     "data": {
      "text/markdown": [
       "<span style=\"color:#33cc33\">Correct</span>"
      ],
      "text/plain": [
       "Correct"
      ]
     },
     "metadata": {},
     "output_type": "display_data"
    }
   ],
   "source": [
    "def losing_team_captain(teams):\n",
    "    return teams[-1][1]\n",
    "\n",
    "# Check your answer\n",
    "q2.check()"
   ]
  },
  {
   "cell_type": "code",
   "execution_count": 5,
   "id": "1bcdaae0",
   "metadata": {
    "execution": {
     "iopub.execute_input": "2023-11-07T22:19:27.052815Z",
     "iopub.status.busy": "2023-11-07T22:19:27.052334Z",
     "iopub.status.idle": "2023-11-07T22:19:27.057660Z",
     "shell.execute_reply": "2023-11-07T22:19:27.056161Z"
    },
    "papermill": {
     "duration": 0.017889,
     "end_time": "2023-11-07T22:19:27.060302",
     "exception": false,
     "start_time": "2023-11-07T22:19:27.042413",
     "status": "completed"
    },
    "tags": []
   },
   "outputs": [],
   "source": [
    "#q2.hint()\n",
    "#q2.solution()"
   ]
  },
  {
   "cell_type": "markdown",
   "id": "95794741",
   "metadata": {
    "papermill": {
     "duration": 0.007712,
     "end_time": "2023-11-07T22:19:27.075801",
     "exception": false,
     "start_time": "2023-11-07T22:19:27.068089",
     "status": "completed"
    },
    "tags": []
   },
   "source": [
    "# 3.\n",
    "\n",
    "The next iteration of Mario Kart will feature an extra-infuriating new item, the *Purple Shell*. When used, it warps the last place racer into first place and the first place racer into last place. Complete the function below to implement the Purple Shell's effect."
   ]
  },
  {
   "cell_type": "code",
   "execution_count": 6,
   "id": "8298eeeb",
   "metadata": {
    "execution": {
     "iopub.execute_input": "2023-11-07T22:19:27.093615Z",
     "iopub.status.busy": "2023-11-07T22:19:27.093149Z",
     "iopub.status.idle": "2023-11-07T22:19:27.104432Z",
     "shell.execute_reply": "2023-11-07T22:19:27.103330Z"
    },
    "papermill": {
     "duration": 0.023337,
     "end_time": "2023-11-07T22:19:27.106999",
     "exception": false,
     "start_time": "2023-11-07T22:19:27.083662",
     "status": "completed"
    },
    "tags": []
   },
   "outputs": [
    {
     "data": {
      "application/javascript": [
       "parent.postMessage({\"jupyterEvent\": \"custom.exercise_interaction\", \"data\": {\"outcomeType\": 1, \"valueTowardsCompletion\": 0.2, \"interactionType\": 1, \"questionType\": 2, \"questionId\": \"3_PurpleShell\", \"learnToolsVersion\": \"0.3.4\", \"failureMessage\": \"\", \"exceptionClass\": \"\", \"trace\": \"\"}}, \"*\")"
      ],
      "text/plain": [
       "<IPython.core.display.Javascript object>"
      ]
     },
     "metadata": {},
     "output_type": "display_data"
    },
    {
     "data": {
      "text/markdown": [
       "<span style=\"color:#33cc33\">Correct</span>"
      ],
      "text/plain": [
       "Correct"
      ]
     },
     "metadata": {},
     "output_type": "display_data"
    }
   ],
   "source": [
    "def purple_shell(racers):\n",
    "    # One slick way to do the swap is x[0], x[-1] = x[-1], x[0].\n",
    "    temp = racers[0]\n",
    "    racers[0] = racers[-1]\n",
    "    racers[-1] = temp\n",
    "# Check your answer\n",
    "q3.check()"
   ]
  },
  {
   "cell_type": "code",
   "execution_count": 7,
   "id": "4f183133",
   "metadata": {
    "execution": {
     "iopub.execute_input": "2023-11-07T22:19:27.125367Z",
     "iopub.status.busy": "2023-11-07T22:19:27.124904Z",
     "iopub.status.idle": "2023-11-07T22:19:27.130085Z",
     "shell.execute_reply": "2023-11-07T22:19:27.128687Z"
    },
    "papermill": {
     "duration": 0.017763,
     "end_time": "2023-11-07T22:19:27.132820",
     "exception": false,
     "start_time": "2023-11-07T22:19:27.115057",
     "status": "completed"
    },
    "tags": []
   },
   "outputs": [],
   "source": [
    "#q3.hint()\n",
    "#q3.solution()"
   ]
  },
  {
   "cell_type": "markdown",
   "id": "212643bb",
   "metadata": {
    "papermill": {
     "duration": 0.007736,
     "end_time": "2023-11-07T22:19:27.148581",
     "exception": false,
     "start_time": "2023-11-07T22:19:27.140845",
     "status": "completed"
    },
    "tags": []
   },
   "source": [
    "# 4.\n",
    "\n",
    "What are the lengths of the following lists? Fill in the variable `lengths` with your predictions. (Try to make a prediction for each list *without* just calling `len()` on it.)"
   ]
  },
  {
   "cell_type": "code",
   "execution_count": 8,
   "id": "5e0b61ea",
   "metadata": {
    "execution": {
     "iopub.execute_input": "2023-11-07T22:19:27.167163Z",
     "iopub.status.busy": "2023-11-07T22:19:27.166742Z",
     "iopub.status.idle": "2023-11-07T22:19:27.178077Z",
     "shell.execute_reply": "2023-11-07T22:19:27.177160Z"
    },
    "papermill": {
     "duration": 0.023118,
     "end_time": "2023-11-07T22:19:27.180366",
     "exception": false,
     "start_time": "2023-11-07T22:19:27.157248",
     "status": "completed"
    },
    "tags": []
   },
   "outputs": [
    {
     "data": {
      "application/javascript": [
       "parent.postMessage({\"jupyterEvent\": \"custom.exercise_interaction\", \"data\": {\"outcomeType\": 1, \"valueTowardsCompletion\": 0.2, \"interactionType\": 1, \"questionType\": 1, \"questionId\": \"4_UnderstandLen\", \"learnToolsVersion\": \"0.3.4\", \"failureMessage\": \"\", \"exceptionClass\": \"\", \"trace\": \"\"}}, \"*\")"
      ],
      "text/plain": [
       "<IPython.core.display.Javascript object>"
      ]
     },
     "metadata": {},
     "output_type": "display_data"
    },
    {
     "data": {
      "text/markdown": [
       "<span style=\"color:#33cc33\">Correct:</span> \n",
       "\n",
       "\n",
       "- a: There are three items in this list. Nothing tricky yet.\n",
       "- b: The list `[2, 3]` counts as a single item. It has one item before it. So we have 2 items in the list\n",
       "- c: The empty list has 0 items\n",
       "- d: The expression is the same as the list `[2, 3]`, which has length 2."
      ],
      "text/plain": [
       "Correct: \n",
       "\n",
       "\n",
       "- a: There are three items in this list. Nothing tricky yet.\n",
       "- b: The list `[2, 3]` counts as a single item. It has one item before it. So we have 2 items in the list\n",
       "- c: The empty list has 0 items\n",
       "- d: The expression is the same as the list `[2, 3]`, which has length 2."
      ]
     },
     "metadata": {},
     "output_type": "display_data"
    }
   ],
   "source": [
    "a = [1, 2, 3]\n",
    "b = [1, [2, 3]]\n",
    "c = []\n",
    "d = [1, 2, 3][1:]\n",
    "\n",
    "# Put your predictions in the list below. Lengths should contain 4 numbers, the\n",
    "# first being the length of a, the second being the length of b and so on.\n",
    "lengths = [3,2,0,2]\n",
    "\n",
    "# Check your answer\n",
    "q4.check()"
   ]
  },
  {
   "cell_type": "code",
   "execution_count": 9,
   "id": "e8489d5d",
   "metadata": {
    "execution": {
     "iopub.execute_input": "2023-11-07T22:19:27.199361Z",
     "iopub.status.busy": "2023-11-07T22:19:27.198968Z",
     "iopub.status.idle": "2023-11-07T22:19:27.204475Z",
     "shell.execute_reply": "2023-11-07T22:19:27.203075Z"
    },
    "papermill": {
     "duration": 0.018482,
     "end_time": "2023-11-07T22:19:27.207148",
     "exception": false,
     "start_time": "2023-11-07T22:19:27.188666",
     "status": "completed"
    },
    "tags": []
   },
   "outputs": [],
   "source": [
    "# line below provides some explanation\n",
    "#q4.solution()"
   ]
  },
  {
   "cell_type": "markdown",
   "id": "0014f98c",
   "metadata": {
    "papermill": {
     "duration": 0.009041,
     "end_time": "2023-11-07T22:19:27.224776",
     "exception": false,
     "start_time": "2023-11-07T22:19:27.215735",
     "status": "completed"
    },
    "tags": []
   },
   "source": [
    "# 5. <span title=\"A bit spicy\" style=\"color: darkgreen \">🌶️</span>\n",
    "\n",
    "We're using lists to record people who attended our party and what order they arrived in. For example, the following list represents a party with 7 guests, in which Adela showed up first and Ford was the last to arrive:\n",
    "\n",
    "    party_attendees = ['Adela', 'Fleda', 'Owen', 'May', 'Mona', 'Gilbert', 'Ford']\n",
    "\n",
    "A guest is considered 'fashionably late' if they arrived after at least half of the party's guests. However, they must not be the very last guest (that's taking it too far). In the above example, Mona and Gilbert are the only guests who were fashionably late.\n",
    "\n",
    "Complete the function below which takes a list of party attendees as well as a person, and tells us whether that person is fashionably late."
   ]
  },
  {
   "cell_type": "code",
   "execution_count": 10,
   "id": "c31eda47",
   "metadata": {
    "execution": {
     "iopub.execute_input": "2023-11-07T22:19:27.243383Z",
     "iopub.status.busy": "2023-11-07T22:19:27.243011Z",
     "iopub.status.idle": "2023-11-07T22:19:27.253743Z",
     "shell.execute_reply": "2023-11-07T22:19:27.252394Z"
    },
    "papermill": {
     "duration": 0.023328,
     "end_time": "2023-11-07T22:19:27.256590",
     "exception": false,
     "start_time": "2023-11-07T22:19:27.233262",
     "status": "completed"
    },
    "tags": []
   },
   "outputs": [
    {
     "data": {
      "application/javascript": [
       "parent.postMessage({\"jupyterEvent\": \"custom.exercise_interaction\", \"data\": {\"outcomeType\": 1, \"valueTowardsCompletion\": 0.2, \"interactionType\": 1, \"questionType\": 2, \"questionId\": \"5_FashionablyLate\", \"learnToolsVersion\": \"0.3.4\", \"failureMessage\": \"\", \"exceptionClass\": \"\", \"trace\": \"\"}}, \"*\")"
      ],
      "text/plain": [
       "<IPython.core.display.Javascript object>"
      ]
     },
     "metadata": {},
     "output_type": "display_data"
    },
    {
     "data": {
      "text/markdown": [
       "<span style=\"color:#33cc33\">Correct</span>"
      ],
      "text/plain": [
       "Correct"
      ]
     },
     "metadata": {},
     "output_type": "display_data"
    }
   ],
   "source": [
    "def fashionably_late(arrivals, name):\n",
    "    order = arrivals.index(name)\n",
    "    return order >= len(arrivals) / 2 and order != len(arrivals) - 1\n",
    "\n",
    "# Check your answer\n",
    "q5.check()"
   ]
  },
  {
   "cell_type": "code",
   "execution_count": 11,
   "id": "6912a12f",
   "metadata": {
    "execution": {
     "iopub.execute_input": "2023-11-07T22:19:27.276442Z",
     "iopub.status.busy": "2023-11-07T22:19:27.276068Z",
     "iopub.status.idle": "2023-11-07T22:19:27.281323Z",
     "shell.execute_reply": "2023-11-07T22:19:27.279970Z"
    },
    "papermill": {
     "duration": 0.018372,
     "end_time": "2023-11-07T22:19:27.284059",
     "exception": false,
     "start_time": "2023-11-07T22:19:27.265687",
     "status": "completed"
    },
    "tags": []
   },
   "outputs": [],
   "source": [
    "#q5.hint()\n",
    "#q5.solution()"
   ]
  },
  {
   "cell_type": "markdown",
   "id": "0e329532",
   "metadata": {
    "papermill": {
     "duration": 0.008277,
     "end_time": "2023-11-07T22:19:27.301177",
     "exception": false,
     "start_time": "2023-11-07T22:19:27.292900",
     "status": "completed"
    },
    "tags": []
   },
   "source": [
    "# Keep Going\n",
    "\n",
    "That's it for lists and tuples! Now you have the baseline knowledge to **[learn about loops](https://www.kaggle.com/colinmorris/loops-and-list-comprehensions)**, which is where lists and tuples get really interesting. "
   ]
  },
  {
   "cell_type": "markdown",
   "id": "e0d6e3dc",
   "metadata": {
    "papermill": {
     "duration": 0.008299,
     "end_time": "2023-11-07T22:19:27.318124",
     "exception": false,
     "start_time": "2023-11-07T22:19:27.309825",
     "status": "completed"
    },
    "tags": []
   },
   "source": [
    "---\n",
    "\n",
    "\n",
    "\n",
    "\n",
    "*Have questions or comments? Visit the [course discussion forum](https://www.kaggle.com/learn/python/discussion) to chat with other learners.*"
   ]
  }
 ],
 "metadata": {
  "kernelspec": {
   "display_name": "Python 3",
   "language": "python",
   "name": "python3"
  },
  "language_info": {
   "codemirror_mode": {
    "name": "ipython",
    "version": 3
   },
   "file_extension": ".py",
   "mimetype": "text/x-python",
   "name": "python",
   "nbconvert_exporter": "python",
   "pygments_lexer": "ipython3",
   "version": "3.10.12"
  },
  "papermill": {
   "default_parameters": {},
   "duration": 5.20493,
   "end_time": "2023-11-07T22:19:27.851025",
   "environment_variables": {},
   "exception": null,
   "input_path": "__notebook__.ipynb",
   "output_path": "__notebook__.ipynb",
   "parameters": {},
   "start_time": "2023-11-07T22:19:22.646095",
   "version": "2.4.0"
  }
 },
 "nbformat": 4,
 "nbformat_minor": 5
}
